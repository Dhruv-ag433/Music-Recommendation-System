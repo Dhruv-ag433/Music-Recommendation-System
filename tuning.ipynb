{
 "cells": [
  {
   "cell_type": "code",
   "execution_count": 13,
   "id": "770d6e36",
   "metadata": {},
   "outputs": [],
   "source": [
    "import pandas as pd\n",
    "\n",
    "df1 = pd.read_csv(\"./dataset/spotify_tracks_with_audio_features.csv\")\n",
    "df2 = pd.read_csv(\"./dataset/spotify_tracks_dataset.csv\")"
   ]
  },
  {
   "cell_type": "code",
   "execution_count": 14,
   "id": "631f8179",
   "metadata": {},
   "outputs": [
    {
     "data": {
      "text/html": [
       "<div>\n",
       "<style scoped>\n",
       "    .dataframe tbody tr th:only-of-type {\n",
       "        vertical-align: middle;\n",
       "    }\n",
       "\n",
       "    .dataframe tbody tr th {\n",
       "        vertical-align: top;\n",
       "    }\n",
       "\n",
       "    .dataframe thead th {\n",
       "        text-align: right;\n",
       "    }\n",
       "</style>\n",
       "<table border=\"1\" class=\"dataframe\">\n",
       "  <thead>\n",
       "    <tr style=\"text-align: right;\">\n",
       "      <th></th>\n",
       "      <th>track_id</th>\n",
       "      <th>name</th>\n",
       "      <th>artist</th>\n",
       "      <th>album</th>\n",
       "      <th>release_year</th>\n",
       "      <th>popularity</th>\n",
       "      <th>duration_ms</th>\n",
       "      <th>tempo</th>\n",
       "      <th>energy</th>\n",
       "      <th>speechiness</th>\n",
       "      <th>acousticness</th>\n",
       "      <th>instrumentalness</th>\n",
       "      <th>liveness</th>\n",
       "      <th>valence</th>\n",
       "      <th>danceability</th>\n",
       "    </tr>\n",
       "  </thead>\n",
       "  <tbody>\n",
       "    <tr>\n",
       "      <th>0</th>\n",
       "      <td>2E5kZ1qnB7V9bcwBEKvZv8</td>\n",
       "      <td>Kasturi (From \"Amar Prem Ki Prem Kahani\")</td>\n",
       "      <td>Arijit Singh</td>\n",
       "      <td>Kasturi (From \"Amar Prem Ki Prem Kahani\")</td>\n",
       "      <td>2024</td>\n",
       "      <td>76</td>\n",
       "      <td>232568</td>\n",
       "      <td>143.554688</td>\n",
       "      <td>0.200736</td>\n",
       "      <td>0.051626</td>\n",
       "      <td>0.838594</td>\n",
       "      <td>0.0</td>\n",
       "      <td>0.973625</td>\n",
       "      <td>0.012776</td>\n",
       "      <td>0.959699</td>\n",
       "    </tr>\n",
       "    <tr>\n",
       "      <th>1</th>\n",
       "      <td>36N5awamOX6XX5pQn3aFXZ</td>\n",
       "      <td>Soni Soni (From \"Ishq Vishk Rebound\")</td>\n",
       "      <td>Darshan Raval</td>\n",
       "      <td>Soni Soni (From \"Ishq Vishk Rebound\")</td>\n",
       "      <td>2024</td>\n",
       "      <td>75</td>\n",
       "      <td>176875</td>\n",
       "      <td>143.554688</td>\n",
       "      <td>0.159436</td>\n",
       "      <td>0.063177</td>\n",
       "      <td>0.797527</td>\n",
       "      <td>0.0</td>\n",
       "      <td>1.000000</td>\n",
       "      <td>0.000000</td>\n",
       "      <td>0.953809</td>\n",
       "    </tr>\n",
       "  </tbody>\n",
       "</table>\n",
       "</div>"
      ],
      "text/plain": [
       "                 track_id                                       name  \\\n",
       "0  2E5kZ1qnB7V9bcwBEKvZv8  Kasturi (From \"Amar Prem Ki Prem Kahani\")   \n",
       "1  36N5awamOX6XX5pQn3aFXZ      Soni Soni (From \"Ishq Vishk Rebound\")   \n",
       "\n",
       "          artist                                      album  release_year  \\\n",
       "0   Arijit Singh  Kasturi (From \"Amar Prem Ki Prem Kahani\")          2024   \n",
       "1  Darshan Raval      Soni Soni (From \"Ishq Vishk Rebound\")          2024   \n",
       "\n",
       "   popularity  duration_ms       tempo    energy  speechiness  acousticness  \\\n",
       "0          76       232568  143.554688  0.200736     0.051626      0.838594   \n",
       "1          75       176875  143.554688  0.159436     0.063177      0.797527   \n",
       "\n",
       "   instrumentalness  liveness   valence  danceability  \n",
       "0               0.0  0.973625  0.012776      0.959699  \n",
       "1               0.0  1.000000  0.000000      0.953809  "
      ]
     },
     "execution_count": 14,
     "metadata": {},
     "output_type": "execute_result"
    }
   ],
   "source": [
    "df1.head(2)"
   ]
  },
  {
   "cell_type": "code",
   "execution_count": 15,
   "id": "7462ae27",
   "metadata": {},
   "outputs": [
    {
     "data": {
      "text/html": [
       "<div>\n",
       "<style scoped>\n",
       "    .dataframe tbody tr th:only-of-type {\n",
       "        vertical-align: middle;\n",
       "    }\n",
       "\n",
       "    .dataframe tbody tr th {\n",
       "        vertical-align: top;\n",
       "    }\n",
       "\n",
       "    .dataframe thead th {\n",
       "        text-align: right;\n",
       "    }\n",
       "</style>\n",
       "<table border=\"1\" class=\"dataframe\">\n",
       "  <thead>\n",
       "    <tr style=\"text-align: right;\">\n",
       "      <th></th>\n",
       "      <th>track_id</th>\n",
       "      <th>name</th>\n",
       "      <th>artist</th>\n",
       "      <th>album</th>\n",
       "      <th>release_year</th>\n",
       "      <th>popularity</th>\n",
       "      <th>duration_ms</th>\n",
       "    </tr>\n",
       "  </thead>\n",
       "  <tbody>\n",
       "    <tr>\n",
       "      <th>0</th>\n",
       "      <td>2ceeTJAzKy295Fm0VsaXtE</td>\n",
       "      <td>Tum Se (From \"Teri Baaton Mein Aisa Uljha Jiya\")</td>\n",
       "      <td>Sachin-Jigar</td>\n",
       "      <td>Tum Se (From \"Teri Baaton Mein Aisa Uljha Jiya\")</td>\n",
       "      <td>2024</td>\n",
       "      <td>80</td>\n",
       "      <td>264089</td>\n",
       "    </tr>\n",
       "    <tr>\n",
       "      <th>1</th>\n",
       "      <td>34Fh4HXZmnuBdtgejWUZg2</td>\n",
       "      <td>Dekhha Tenu (From \"Mr. And Mrs. Mahi\")</td>\n",
       "      <td>Mohammad Faiz</td>\n",
       "      <td>Dekhha Tenu (From \"Mr. And Mrs. Mahi\")</td>\n",
       "      <td>2024</td>\n",
       "      <td>74</td>\n",
       "      <td>281511</td>\n",
       "    </tr>\n",
       "  </tbody>\n",
       "</table>\n",
       "</div>"
      ],
      "text/plain": [
       "                 track_id                                              name  \\\n",
       "0  2ceeTJAzKy295Fm0VsaXtE  Tum Se (From \"Teri Baaton Mein Aisa Uljha Jiya\")   \n",
       "1  34Fh4HXZmnuBdtgejWUZg2            Dekhha Tenu (From \"Mr. And Mrs. Mahi\")   \n",
       "\n",
       "          artist                                             album  \\\n",
       "0   Sachin-Jigar  Tum Se (From \"Teri Baaton Mein Aisa Uljha Jiya\")   \n",
       "1  Mohammad Faiz            Dekhha Tenu (From \"Mr. And Mrs. Mahi\")   \n",
       "\n",
       "   release_year  popularity  duration_ms  \n",
       "0          2024          80       264089  \n",
       "1          2024          74       281511  "
      ]
     },
     "execution_count": 15,
     "metadata": {},
     "output_type": "execute_result"
    }
   ],
   "source": [
    "df2.head(2)"
   ]
  },
  {
   "cell_type": "code",
   "execution_count": 16,
   "id": "9f2d574d",
   "metadata": {},
   "outputs": [
    {
     "data": {
      "text/plain": [
       "(7433, 15)"
      ]
     },
     "execution_count": 16,
     "metadata": {},
     "output_type": "execute_result"
    }
   ],
   "source": [
    "df1.shape"
   ]
  },
  {
   "cell_type": "code",
   "execution_count": 17,
   "id": "09b111ec",
   "metadata": {},
   "outputs": [
    {
     "data": {
      "text/plain": [
       "(7532, 7)"
      ]
     },
     "execution_count": 17,
     "metadata": {},
     "output_type": "execute_result"
    }
   ],
   "source": [
    "df2.shape"
   ]
  },
  {
   "cell_type": "code",
   "execution_count": 18,
   "id": "ebbfc71d",
   "metadata": {},
   "outputs": [],
   "source": [
    "failed_df = df2[~df2['track_id'].isin(df1['track_id'])]"
   ]
  },
  {
   "cell_type": "code",
   "execution_count": 19,
   "id": "95a3fcbb",
   "metadata": {},
   "outputs": [
    {
     "data": {
      "text/plain": [
       "(99, 7)"
      ]
     },
     "execution_count": 19,
     "metadata": {},
     "output_type": "execute_result"
    }
   ],
   "source": [
    "failed_df.shape"
   ]
  },
  {
   "cell_type": "code",
   "execution_count": 20,
   "id": "32cc3211",
   "metadata": {},
   "outputs": [],
   "source": [
    "failed_df.to_csv(\"./dataset/re_run.csv\", index=False)"
   ]
  },
  {
   "cell_type": "code",
   "execution_count": null,
   "id": "9c5010f7",
   "metadata": {},
   "outputs": [],
   "source": []
  }
 ],
 "metadata": {
  "kernelspec": {
   "display_name": "Python 3",
   "language": "python",
   "name": "python3"
  },
  "language_info": {
   "codemirror_mode": {
    "name": "ipython",
    "version": 3
   },
   "file_extension": ".py",
   "mimetype": "text/x-python",
   "name": "python",
   "nbconvert_exporter": "python",
   "pygments_lexer": "ipython3",
   "version": "3.10.13"
  }
 },
 "nbformat": 4,
 "nbformat_minor": 5
}
