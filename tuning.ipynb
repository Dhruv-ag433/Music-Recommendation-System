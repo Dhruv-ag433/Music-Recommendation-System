{
 "cells": [
  {
   "cell_type": "code",
   "execution_count": 4,
   "id": "bfa3d238",
   "metadata": {},
   "outputs": [],
   "source": [
    "import pandas as pd\n",
    "\n",
    "df1 = pd.read_csv(\"./dataset/spotify_tracks_with_audio_features.csv\")\n",
    "df2 = pd.read_csv(\"./dataset/spotify_tracks_dataset.csv\")\n",
    "df3 = pd.read_csv(\"./dataset/spotify_track_images.csv\")"
   ]
  },
  {
   "cell_type": "code",
   "execution_count": 5,
   "id": "da3bb187",
   "metadata": {},
   "outputs": [
    {
     "data": {
      "text/plain": [
       "(7433, 15)"
      ]
     },
     "execution_count": 5,
     "metadata": {},
     "output_type": "execute_result"
    }
   ],
   "source": [
    "df1.shape"
   ]
  },
  {
   "cell_type": "code",
   "execution_count": 6,
   "id": "1c57fb7a",
   "metadata": {},
   "outputs": [
    {
     "data": {
      "text/plain": [
       "(7532, 8)"
      ]
     },
     "execution_count": 6,
     "metadata": {},
     "output_type": "execute_result"
    }
   ],
   "source": [
    "df2.shape"
   ]
  },
  {
   "cell_type": "code",
   "execution_count": 7,
   "id": "a7049528",
   "metadata": {},
   "outputs": [
    {
     "data": {
      "text/plain": [
       "(7532, 2)"
      ]
     },
     "execution_count": 7,
     "metadata": {},
     "output_type": "execute_result"
    }
   ],
   "source": [
    "df3.shape"
   ]
  },
  {
   "cell_type": "code",
   "execution_count": 8,
   "id": "41523e3e",
   "metadata": {},
   "outputs": [],
   "source": [
    "final_df = pd.merge(df1, df3, on=\"track_id\", how=\"inner\")"
   ]
  },
  {
   "cell_type": "code",
   "execution_count": 10,
   "id": "111bc089",
   "metadata": {},
   "outputs": [
    {
     "data": {
      "text/html": [
       "<div>\n",
       "<style scoped>\n",
       "    .dataframe tbody tr th:only-of-type {\n",
       "        vertical-align: middle;\n",
       "    }\n",
       "\n",
       "    .dataframe tbody tr th {\n",
       "        vertical-align: top;\n",
       "    }\n",
       "\n",
       "    .dataframe thead th {\n",
       "        text-align: right;\n",
       "    }\n",
       "</style>\n",
       "<table border=\"1\" class=\"dataframe\">\n",
       "  <thead>\n",
       "    <tr style=\"text-align: right;\">\n",
       "      <th></th>\n",
       "      <th>track_id</th>\n",
       "      <th>name</th>\n",
       "      <th>artist</th>\n",
       "      <th>album</th>\n",
       "      <th>release_year</th>\n",
       "      <th>popularity</th>\n",
       "      <th>duration_ms</th>\n",
       "      <th>tempo</th>\n",
       "      <th>energy</th>\n",
       "      <th>speechiness</th>\n",
       "      <th>acousticness</th>\n",
       "      <th>instrumentalness</th>\n",
       "      <th>liveness</th>\n",
       "      <th>valence</th>\n",
       "      <th>danceability</th>\n",
       "      <th>image_url</th>\n",
       "    </tr>\n",
       "  </thead>\n",
       "  <tbody>\n",
       "    <tr>\n",
       "      <th>0</th>\n",
       "      <td>2E5kZ1qnB7V9bcwBEKvZv8</td>\n",
       "      <td>Kasturi (From \"Amar Prem Ki Prem Kahani\")</td>\n",
       "      <td>Arijit Singh</td>\n",
       "      <td>Kasturi (From \"Amar Prem Ki Prem Kahani\")</td>\n",
       "      <td>2024</td>\n",
       "      <td>76</td>\n",
       "      <td>232568</td>\n",
       "      <td>143.554688</td>\n",
       "      <td>0.200736</td>\n",
       "      <td>0.051626</td>\n",
       "      <td>0.838594</td>\n",
       "      <td>0.0</td>\n",
       "      <td>0.973625</td>\n",
       "      <td>0.012776</td>\n",
       "      <td>0.959699</td>\n",
       "      <td>https://i.scdn.co/image/ab67616d0000b2730097e5...</td>\n",
       "    </tr>\n",
       "    <tr>\n",
       "      <th>1</th>\n",
       "      <td>36N5awamOX6XX5pQn3aFXZ</td>\n",
       "      <td>Soni Soni (From \"Ishq Vishk Rebound\")</td>\n",
       "      <td>Darshan Raval</td>\n",
       "      <td>Soni Soni (From \"Ishq Vishk Rebound\")</td>\n",
       "      <td>2024</td>\n",
       "      <td>75</td>\n",
       "      <td>176875</td>\n",
       "      <td>143.554688</td>\n",
       "      <td>0.159436</td>\n",
       "      <td>0.063177</td>\n",
       "      <td>0.797527</td>\n",
       "      <td>0.0</td>\n",
       "      <td>1.000000</td>\n",
       "      <td>0.000000</td>\n",
       "      <td>0.953809</td>\n",
       "      <td>https://i.scdn.co/image/ab67616d0000b273b397e3...</td>\n",
       "    </tr>\n",
       "  </tbody>\n",
       "</table>\n",
       "</div>"
      ],
      "text/plain": [
       "                 track_id                                       name  \\\n",
       "0  2E5kZ1qnB7V9bcwBEKvZv8  Kasturi (From \"Amar Prem Ki Prem Kahani\")   \n",
       "1  36N5awamOX6XX5pQn3aFXZ      Soni Soni (From \"Ishq Vishk Rebound\")   \n",
       "\n",
       "          artist                                      album  release_year  \\\n",
       "0   Arijit Singh  Kasturi (From \"Amar Prem Ki Prem Kahani\")          2024   \n",
       "1  Darshan Raval      Soni Soni (From \"Ishq Vishk Rebound\")          2024   \n",
       "\n",
       "   popularity  duration_ms       tempo    energy  speechiness  acousticness  \\\n",
       "0          76       232568  143.554688  0.200736     0.051626      0.838594   \n",
       "1          75       176875  143.554688  0.159436     0.063177      0.797527   \n",
       "\n",
       "   instrumentalness  liveness   valence  danceability  \\\n",
       "0               0.0  0.973625  0.012776      0.959699   \n",
       "1               0.0  1.000000  0.000000      0.953809   \n",
       "\n",
       "                                           image_url  \n",
       "0  https://i.scdn.co/image/ab67616d0000b2730097e5...  \n",
       "1  https://i.scdn.co/image/ab67616d0000b273b397e3...  "
      ]
     },
     "execution_count": 10,
     "metadata": {},
     "output_type": "execute_result"
    }
   ],
   "source": [
    "final_df.head(2)"
   ]
  },
  {
   "cell_type": "code",
   "execution_count": 12,
   "id": "920e4da7",
   "metadata": {},
   "outputs": [],
   "source": [
    "final_df.to_csv(\"./dataset/spotify_tracks_with_audio_features.csv\", index=False)"
   ]
  },
  {
   "cell_type": "code",
   "execution_count": null,
   "id": "6918679e",
   "metadata": {},
   "outputs": [],
   "source": []
  }
 ],
 "metadata": {
  "kernelspec": {
   "display_name": "Python 3",
   "language": "python",
   "name": "python3"
  },
  "language_info": {
   "codemirror_mode": {
    "name": "ipython",
    "version": 3
   },
   "file_extension": ".py",
   "mimetype": "text/x-python",
   "name": "python",
   "nbconvert_exporter": "python",
   "pygments_lexer": "ipython3",
   "version": "3.10.13"
  }
 },
 "nbformat": 4,
 "nbformat_minor": 5
}
